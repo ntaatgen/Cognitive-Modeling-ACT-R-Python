{
 "cells": [
  {
   "cell_type": "markdown",
   "metadata": {},
   "source": [
    "# Count model"
   ]
  },
  {
   "cell_type": "code",
   "execution_count": 1,
   "metadata": {},
   "outputs": [],
   "source": [
    "from model import Model\n",
    "from dmchunk import Chunk"
   ]
  },
  {
   "cell_type": "code",
   "execution_count": 2,
   "metadata": {},
   "outputs": [],
   "source": [
    "m = Model()"
   ]
  },
  {
   "cell_type": "code",
   "execution_count": 3,
   "metadata": {},
   "outputs": [
    {
     "name": "stdout",
     "output_type": "stream",
     "text": [
      "\n",
      "=== Model ===\n",
      "Time: 0 s \n",
      "Goal:None\n",
      "DM:\n",
      "\n"
     ]
    }
   ],
   "source": [
    "print(m)"
   ]
  },
  {
   "cell_type": "code",
   "execution_count": 4,
   "metadata": {},
   "outputs": [],
   "source": [
    "fact1 = Chunk(name =\"cf1\", slots = {\"isa\" : \"count-fact\", \"num1\" : \"one\", \"num2\" : \"two\"})"
   ]
  },
  {
   "cell_type": "code",
   "execution_count": 5,
   "metadata": {},
   "outputs": [],
   "source": [
    "m.add_encounter(fact1)"
   ]
  },
  {
   "cell_type": "code",
   "execution_count": 6,
   "metadata": {},
   "outputs": [
    {
     "name": "stdout",
     "output_type": "stream",
     "text": [
      "\n",
      "=== Model ===\n",
      "Time: 0 s \n",
      "Goal:None\n",
      "DM:Chunk cf1\n",
      "Slots: {'isa': 'count-fact', 'num1': 'one', 'num2': 'two'}\n",
      "Encounters: [0]\n",
      "Fan: 0\n",
      "\n",
      "Chunk count-fact\n",
      "Slots: {}\n",
      "Encounters: [0]\n",
      "Fan: 1\n",
      "\n",
      "Chunk one\n",
      "Slots: {}\n",
      "Encounters: [0]\n",
      "Fan: 1\n",
      "\n",
      "Chunk two\n",
      "Slots: {}\n",
      "Encounters: [0]\n",
      "Fan: 1\n",
      "\n",
      "\n"
     ]
    }
   ],
   "source": [
    "print(m)"
   ]
  },
  {
   "cell_type": "code",
   "execution_count": 7,
   "metadata": {},
   "outputs": [],
   "source": [
    "m.time += 1.0\n",
    "m.add_encounter(fact1)"
   ]
  },
  {
   "cell_type": "code",
   "execution_count": 8,
   "metadata": {},
   "outputs": [
    {
     "name": "stdout",
     "output_type": "stream",
     "text": [
      "\n",
      "=== Model ===\n",
      "Time: 1.0 s \n",
      "Goal:None\n",
      "DM:Chunk cf1\n",
      "Slots: {'isa': 'count-fact', 'num1': 'one', 'num2': 'two'}\n",
      "Encounters: [0, 1.0]\n",
      "Fan: 0\n",
      "\n",
      "Chunk count-fact\n",
      "Slots: {}\n",
      "Encounters: [0]\n",
      "Fan: 1\n",
      "\n",
      "Chunk one\n",
      "Slots: {}\n",
      "Encounters: [0]\n",
      "Fan: 1\n",
      "\n",
      "Chunk two\n",
      "Slots: {}\n",
      "Encounters: [0]\n",
      "Fan: 1\n",
      "\n",
      "\n"
     ]
    }
   ],
   "source": [
    "print(m)"
   ]
  },
  {
   "cell_type": "code",
   "execution_count": 9,
   "metadata": {},
   "outputs": [],
   "source": [
    "numbers = [\"zero\",\"one\",\"two\",\"three\",\"four\",\"five\",\"six\"]\n",
    "for i in range(0,len(numbers)-1):\n",
    "    fact = Chunk(name = \"cf\" + numbers[i], slots ={\"isa\":\"count-fact\", \"num1\": numbers[i], \"num2\" : numbers[i+1]})\n",
    "    m.add_encounter(fact)"
   ]
  },
  {
   "cell_type": "code",
   "execution_count": 10,
   "metadata": {},
   "outputs": [
    {
     "name": "stdout",
     "output_type": "stream",
     "text": [
      "\n",
      "=== Model ===\n",
      "Time: 1.0 s \n",
      "Goal:None\n",
      "DM:Chunk cf1\n",
      "Slots: {'isa': 'count-fact', 'num1': 'one', 'num2': 'two'}\n",
      "Encounters: [0, 1.0]\n",
      "Fan: 0\n",
      "\n",
      "Chunk count-fact\n",
      "Slots: {}\n",
      "Encounters: [0]\n",
      "Fan: 7\n",
      "\n",
      "Chunk one\n",
      "Slots: {}\n",
      "Encounters: [0]\n",
      "Fan: 3\n",
      "\n",
      "Chunk two\n",
      "Slots: {}\n",
      "Encounters: [0]\n",
      "Fan: 3\n",
      "\n",
      "Chunk cfzero\n",
      "Slots: {'isa': 'count-fact', 'num1': 'zero', 'num2': 'one'}\n",
      "Encounters: [1.0]\n",
      "Fan: 0\n",
      "\n",
      "Chunk zero\n",
      "Slots: {}\n",
      "Encounters: [1.0]\n",
      "Fan: 1\n",
      "\n",
      "Chunk cfone\n",
      "Slots: {'isa': 'count-fact', 'num1': 'one', 'num2': 'two'}\n",
      "Encounters: [1.0]\n",
      "Fan: 0\n",
      "\n",
      "Chunk cftwo\n",
      "Slots: {'isa': 'count-fact', 'num1': 'two', 'num2': 'three'}\n",
      "Encounters: [1.0]\n",
      "Fan: 0\n",
      "\n",
      "Chunk three\n",
      "Slots: {}\n",
      "Encounters: [1.0]\n",
      "Fan: 2\n",
      "\n",
      "Chunk cfthree\n",
      "Slots: {'isa': 'count-fact', 'num1': 'three', 'num2': 'four'}\n",
      "Encounters: [1.0]\n",
      "Fan: 0\n",
      "\n",
      "Chunk four\n",
      "Slots: {}\n",
      "Encounters: [1.0]\n",
      "Fan: 2\n",
      "\n",
      "Chunk cffour\n",
      "Slots: {'isa': 'count-fact', 'num1': 'four', 'num2': 'five'}\n",
      "Encounters: [1.0]\n",
      "Fan: 0\n",
      "\n",
      "Chunk five\n",
      "Slots: {}\n",
      "Encounters: [1.0]\n",
      "Fan: 2\n",
      "\n",
      "Chunk cffive\n",
      "Slots: {'isa': 'count-fact', 'num1': 'five', 'num2': 'six'}\n",
      "Encounters: [1.0]\n",
      "Fan: 0\n",
      "\n",
      "Chunk six\n",
      "Slots: {}\n",
      "Encounters: [1.0]\n",
      "Fan: 1\n",
      "\n",
      "\n"
     ]
    }
   ],
   "source": [
    "print(m)"
   ]
  },
  {
   "cell_type": "code",
   "execution_count": 11,
   "metadata": {},
   "outputs": [],
   "source": [
    "def count_from(start, end):\n",
    "    g = Chunk(name = \"goal\", slots = {\"isa\":\"count-goal\",\"start\":start,\"end\":end})\n",
    "    m.goal = g\n",
    "    done = False\n",
    "    while not done:\n",
    "        if not \"current\" in g.slots:\n",
    "            g.slots[\"current\"] = g.slots[\"start\"]\n",
    "            request = Chunk(name = \"request\", slots = {\"isa\":\"count-fact\", \"num1\":g.slots[\"current\"]})\n",
    "            m.time += .05\n",
    "            chunk, latency = m.retrieve(request)\n",
    "            m.add_encounter(chunk)\n",
    "            m.time += latency\n",
    "            print(m.time)\n",
    "            print(g.slots[\"current\"])\n",
    "            g.slots[\"current\"] = chunk.slots[\"num2\"]\n",
    "            m.time += 0.3\n",
    "        elif g.slots[\"current\"] != g.slots[\"end\"]:\n",
    "            request = Chunk(name = \"request\", slots = {\"isa\":\"count-fact\", \"num1\":g.slots[\"current\"]})\n",
    "            m.time += .05\n",
    "            chunk, latency = m.retrieve(request)\n",
    "            m.add_encounter(chunk)\n",
    "            m.time += latency\n",
    "            print(m.time)\n",
    "            print(g.slots[\"current\"])\n",
    "            g.slots[\"current\"] = chunk.slots[\"num2\"]\n",
    "            m.time += 0.3\n",
    "        else:\n",
    "            print(m.time)\n",
    "            print(g.slots[\"current\"])\n",
    "            done = True\n",
    "            "
   ]
  },
  {
   "cell_type": "code",
   "execution_count": 12,
   "metadata": {},
   "outputs": [
    {
     "name": "stdout",
     "output_type": "stream",
     "text": [
      "1.0625191475047842\n",
      "two\n",
      "1.4562690079965919\n",
      "three\n",
      "1.848846647490218\n",
      "four\n",
      "2.148846647490218\n",
      "five\n"
     ]
    }
   ],
   "source": [
    "count_from(\"two\",\"five\")"
   ]
  },
  {
   "cell_type": "code",
   "execution_count": 13,
   "metadata": {},
   "outputs": [
    {
     "name": "stdout",
     "output_type": "stream",
     "text": [
      "\n",
      "=== Model ===\n",
      "Time: 2.148846647490218 s \n",
      "Goal:Chunk goal\n",
      "Slots: {'isa': 'count-goal', 'start': 'two', 'end': 'five', 'current': 'five'}\n",
      "Encounters: []\n",
      "Fan: 0\n",
      "\n",
      "DM:Chunk cf1\n",
      "Slots: {'isa': 'count-fact', 'num1': 'one', 'num2': 'two'}\n",
      "Encounters: [0, 1.0]\n",
      "Fan: 0\n",
      "\n",
      "Chunk count-fact\n",
      "Slots: {}\n",
      "Encounters: [0]\n",
      "Fan: 7\n",
      "\n",
      "Chunk one\n",
      "Slots: {}\n",
      "Encounters: [0]\n",
      "Fan: 3\n",
      "\n",
      "Chunk two\n",
      "Slots: {}\n",
      "Encounters: [0]\n",
      "Fan: 3\n",
      "\n",
      "Chunk cfzero\n",
      "Slots: {'isa': 'count-fact', 'num1': 'zero', 'num2': 'one'}\n",
      "Encounters: [1.0]\n",
      "Fan: 0\n",
      "\n",
      "Chunk zero\n",
      "Slots: {}\n",
      "Encounters: [1.0]\n",
      "Fan: 1\n",
      "\n",
      "Chunk cfone\n",
      "Slots: {'isa': 'count-fact', 'num1': 'one', 'num2': 'two'}\n",
      "Encounters: [1.0]\n",
      "Fan: 0\n",
      "\n",
      "Chunk cftwo\n",
      "Slots: {'isa': 'count-fact', 'num1': 'two', 'num2': 'three'}\n",
      "Encounters: [1.0, 1.05]\n",
      "Fan: 0\n",
      "\n",
      "Chunk three\n",
      "Slots: {}\n",
      "Encounters: [1.0]\n",
      "Fan: 2\n",
      "\n",
      "Chunk cfthree\n",
      "Slots: {'isa': 'count-fact', 'num1': 'three', 'num2': 'four'}\n",
      "Encounters: [1.0, 1.4125191475047842]\n",
      "Fan: 0\n",
      "\n",
      "Chunk four\n",
      "Slots: {}\n",
      "Encounters: [1.0]\n",
      "Fan: 2\n",
      "\n",
      "Chunk cffour\n",
      "Slots: {'isa': 'count-fact', 'num1': 'four', 'num2': 'five'}\n",
      "Encounters: [1.0, 1.806269007996592]\n",
      "Fan: 0\n",
      "\n",
      "Chunk five\n",
      "Slots: {}\n",
      "Encounters: [1.0]\n",
      "Fan: 2\n",
      "\n",
      "Chunk cffive\n",
      "Slots: {'isa': 'count-fact', 'num1': 'five', 'num2': 'six'}\n",
      "Encounters: [1.0]\n",
      "Fan: 0\n",
      "\n",
      "Chunk six\n",
      "Slots: {}\n",
      "Encounters: [1.0]\n",
      "Fan: 1\n",
      "\n",
      "\n"
     ]
    }
   ],
   "source": [
    "print(m)"
   ]
  }
 ],
 "metadata": {
  "kernelspec": {
   "display_name": "Python [conda env:base] *",
   "language": "python",
   "name": "conda-base-py"
  },
  "language_info": {
   "codemirror_mode": {
    "name": "ipython",
    "version": 3
   },
   "file_extension": ".py",
   "mimetype": "text/x-python",
   "name": "python",
   "nbconvert_exporter": "python",
   "pygments_lexer": "ipython3",
   "version": "3.11.11"
  }
 },
 "nbformat": 4,
 "nbformat_minor": 4
}
